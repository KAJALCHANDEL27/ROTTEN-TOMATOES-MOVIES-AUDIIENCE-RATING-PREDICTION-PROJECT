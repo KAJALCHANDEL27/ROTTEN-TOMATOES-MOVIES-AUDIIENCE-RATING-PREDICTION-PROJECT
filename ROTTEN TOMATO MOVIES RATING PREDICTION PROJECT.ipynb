{
 "cells": [
  {
   "cell_type": "markdown",
   "id": "2c18c822",
   "metadata": {},
   "source": [
    "# ROTTEN TOMATOES MOVIES (audience rating) PROJECT"
   ]
  },
  {
   "cell_type": "markdown",
   "id": "2e2886f6",
   "metadata": {},
   "source": [
    "# Step 1: import necessary libraries"
   ]
  },
  {
   "cell_type": "code",
   "execution_count": 1,
   "id": "e64b5271",
   "metadata": {},
   "outputs": [],
   "source": [
    "import pandas as pd\n",
    "import seaborn as sns\n",
    "import matplotlib.pyplot as plt\n"
   ]
  },
  {
   "cell_type": "markdown",
   "id": "04402a2b",
   "metadata": {},
   "source": [
    "# Step 2: Loading the dataset\n"
   ]
  },
  {
   "cell_type": "code",
   "execution_count": 2,
   "id": "bfcfb8ae",
   "metadata": {
    "scrolled": true
   },
   "outputs": [
    {
     "data": {
      "text/html": [
       "<div>\n",
       "<style scoped>\n",
       "    .dataframe tbody tr th:only-of-type {\n",
       "        vertical-align: middle;\n",
       "    }\n",
       "\n",
       "    .dataframe tbody tr th {\n",
       "        vertical-align: top;\n",
       "    }\n",
       "\n",
       "    .dataframe thead th {\n",
       "        text-align: right;\n",
       "    }\n",
       "</style>\n",
       "<table border=\"1\" class=\"dataframe\">\n",
       "  <thead>\n",
       "    <tr style=\"text-align: right;\">\n",
       "      <th></th>\n",
       "      <th>movie_title</th>\n",
       "      <th>movie_info</th>\n",
       "      <th>critics_consensus</th>\n",
       "      <th>rating</th>\n",
       "      <th>genre</th>\n",
       "      <th>directors</th>\n",
       "      <th>writers</th>\n",
       "      <th>cast</th>\n",
       "      <th>in_theaters_date</th>\n",
       "      <th>on_streaming_date</th>\n",
       "      <th>runtime_in_minutes</th>\n",
       "      <th>studio_name</th>\n",
       "      <th>tomatometer_status</th>\n",
       "      <th>tomatometer_rating</th>\n",
       "      <th>tomatometer_count</th>\n",
       "      <th>audience_rating</th>\n",
       "    </tr>\n",
       "  </thead>\n",
       "  <tbody>\n",
       "    <tr>\n",
       "      <th>0</th>\n",
       "      <td>Percy Jackson &amp; the Olympians: The Lightning T...</td>\n",
       "      <td>A teenager discovers he's the descendant of a ...</td>\n",
       "      <td>Though it may seem like just another Harry Pot...</td>\n",
       "      <td>PG</td>\n",
       "      <td>Action &amp; Adventure, Comedy, Drama, Science Fic...</td>\n",
       "      <td>Chris Columbus</td>\n",
       "      <td>Craig Titley</td>\n",
       "      <td>Logan Lerman, Brandon T. Jackson, Alexandra Da...</td>\n",
       "      <td>12-02-2010</td>\n",
       "      <td>29-06-2010</td>\n",
       "      <td>83.0</td>\n",
       "      <td>20th Century Fox</td>\n",
       "      <td>Rotten</td>\n",
       "      <td>49</td>\n",
       "      <td>144</td>\n",
       "      <td>53.0</td>\n",
       "    </tr>\n",
       "    <tr>\n",
       "      <th>1</th>\n",
       "      <td>Please Give</td>\n",
       "      <td>Kate has a lot on her mind. There's the ethics...</td>\n",
       "      <td>Nicole Holofcener's newest might seem slight i...</td>\n",
       "      <td>R</td>\n",
       "      <td>Comedy</td>\n",
       "      <td>Nicole Holofcener</td>\n",
       "      <td>Nicole Holofcener</td>\n",
       "      <td>Catherine Keener, Amanda Peet, Oliver Platt, R...</td>\n",
       "      <td>30-04-2010</td>\n",
       "      <td>19-10-2010</td>\n",
       "      <td>90.0</td>\n",
       "      <td>Sony Pictures Classics</td>\n",
       "      <td>Certified Fresh</td>\n",
       "      <td>86</td>\n",
       "      <td>140</td>\n",
       "      <td>64.0</td>\n",
       "    </tr>\n",
       "    <tr>\n",
       "      <th>2</th>\n",
       "      <td>10</td>\n",
       "      <td>Blake Edwards' 10 stars Dudley Moore as George...</td>\n",
       "      <td>NaN</td>\n",
       "      <td>R</td>\n",
       "      <td>Comedy, Romance</td>\n",
       "      <td>Blake Edwards</td>\n",
       "      <td>Blake Edwards</td>\n",
       "      <td>Dudley Moore, Bo Derek, Julie Andrews, Robert ...</td>\n",
       "      <td>05-10-1979</td>\n",
       "      <td>27-08-1997</td>\n",
       "      <td>118.0</td>\n",
       "      <td>Waner Bros.</td>\n",
       "      <td>Fresh</td>\n",
       "      <td>68</td>\n",
       "      <td>22</td>\n",
       "      <td>53.0</td>\n",
       "    </tr>\n",
       "    <tr>\n",
       "      <th>3</th>\n",
       "      <td>12 Angry Men (Twelve Angry Men)</td>\n",
       "      <td>A Puerto Rican youth is on trial for murder, a...</td>\n",
       "      <td>Sidney Lumet's feature debut is a superbly wri...</td>\n",
       "      <td>NR</td>\n",
       "      <td>Classics, Drama</td>\n",
       "      <td>Sidney Lumet</td>\n",
       "      <td>Reginald Rose</td>\n",
       "      <td>Martin Balsam, John Fiedler, Lee J. Cobb, E.G....</td>\n",
       "      <td>13-04-1957</td>\n",
       "      <td>06-03-2001</td>\n",
       "      <td>95.0</td>\n",
       "      <td>Criterion Collection</td>\n",
       "      <td>Certified Fresh</td>\n",
       "      <td>100</td>\n",
       "      <td>51</td>\n",
       "      <td>97.0</td>\n",
       "    </tr>\n",
       "    <tr>\n",
       "      <th>4</th>\n",
       "      <td>20,000 Leagues Under The Sea</td>\n",
       "      <td>This 1954 Disney version of Jules Verne's 20,0...</td>\n",
       "      <td>One of Disney's finest live-action adventures,...</td>\n",
       "      <td>G</td>\n",
       "      <td>Action &amp; Adventure, Drama, Kids &amp; Family</td>\n",
       "      <td>Richard Fleischer</td>\n",
       "      <td>Earl Felton</td>\n",
       "      <td>James Mason, Kirk Douglas, Paul Lukas, Peter L...</td>\n",
       "      <td>01-01-1954</td>\n",
       "      <td>20-05-2003</td>\n",
       "      <td>127.0</td>\n",
       "      <td>Disney</td>\n",
       "      <td>Fresh</td>\n",
       "      <td>89</td>\n",
       "      <td>27</td>\n",
       "      <td>74.0</td>\n",
       "    </tr>\n",
       "  </tbody>\n",
       "</table>\n",
       "</div>"
      ],
      "text/plain": [
       "                                         movie_title  \\\n",
       "0  Percy Jackson & the Olympians: The Lightning T...   \n",
       "1                                        Please Give   \n",
       "2                                                 10   \n",
       "3                    12 Angry Men (Twelve Angry Men)   \n",
       "4                       20,000 Leagues Under The Sea   \n",
       "\n",
       "                                          movie_info  \\\n",
       "0  A teenager discovers he's the descendant of a ...   \n",
       "1  Kate has a lot on her mind. There's the ethics...   \n",
       "2  Blake Edwards' 10 stars Dudley Moore as George...   \n",
       "3  A Puerto Rican youth is on trial for murder, a...   \n",
       "4  This 1954 Disney version of Jules Verne's 20,0...   \n",
       "\n",
       "                                   critics_consensus rating  \\\n",
       "0  Though it may seem like just another Harry Pot...     PG   \n",
       "1  Nicole Holofcener's newest might seem slight i...      R   \n",
       "2                                                NaN      R   \n",
       "3  Sidney Lumet's feature debut is a superbly wri...     NR   \n",
       "4  One of Disney's finest live-action adventures,...      G   \n",
       "\n",
       "                                               genre          directors  \\\n",
       "0  Action & Adventure, Comedy, Drama, Science Fic...     Chris Columbus   \n",
       "1                                             Comedy  Nicole Holofcener   \n",
       "2                                    Comedy, Romance      Blake Edwards   \n",
       "3                                    Classics, Drama       Sidney Lumet   \n",
       "4           Action & Adventure, Drama, Kids & Family  Richard Fleischer   \n",
       "\n",
       "             writers                                               cast  \\\n",
       "0       Craig Titley  Logan Lerman, Brandon T. Jackson, Alexandra Da...   \n",
       "1  Nicole Holofcener  Catherine Keener, Amanda Peet, Oliver Platt, R...   \n",
       "2      Blake Edwards  Dudley Moore, Bo Derek, Julie Andrews, Robert ...   \n",
       "3      Reginald Rose  Martin Balsam, John Fiedler, Lee J. Cobb, E.G....   \n",
       "4        Earl Felton  James Mason, Kirk Douglas, Paul Lukas, Peter L...   \n",
       "\n",
       "  in_theaters_date on_streaming_date  runtime_in_minutes  \\\n",
       "0       12-02-2010        29-06-2010                83.0   \n",
       "1       30-04-2010        19-10-2010                90.0   \n",
       "2       05-10-1979        27-08-1997               118.0   \n",
       "3       13-04-1957        06-03-2001                95.0   \n",
       "4       01-01-1954        20-05-2003               127.0   \n",
       "\n",
       "              studio_name tomatometer_status  tomatometer_rating  \\\n",
       "0        20th Century Fox             Rotten                  49   \n",
       "1  Sony Pictures Classics    Certified Fresh                  86   \n",
       "2             Waner Bros.              Fresh                  68   \n",
       "3    Criterion Collection    Certified Fresh                 100   \n",
       "4                  Disney              Fresh                  89   \n",
       "\n",
       "   tomatometer_count  audience_rating  \n",
       "0                144             53.0  \n",
       "1                140             64.0  \n",
       "2                 22             53.0  \n",
       "3                 51             97.0  \n",
       "4                 27             74.0  "
      ]
     },
     "execution_count": 2,
     "metadata": {},
     "output_type": "execute_result"
    }
   ],
   "source": [
    "dataset = pd.read_csv(\"Rotten_Tomatoes_Movies3.csv\", encoding='latin1')\n",
    "dataset.head(5)"
   ]
  },
  {
   "cell_type": "markdown",
   "id": "9fef3516",
   "metadata": {},
   "source": [
    "# Step 3: Exploratory Data Analysis\n"
   ]
  },
  {
   "cell_type": "code",
   "execution_count": 3,
   "id": "e3d2de61",
   "metadata": {},
   "outputs": [
    {
     "data": {
      "text/plain": [
       "(16638, 16)"
      ]
     },
     "execution_count": 3,
     "metadata": {},
     "output_type": "execute_result"
    }
   ],
   "source": [
    "dataset.shape          "
   ]
  },
  {
   "cell_type": "code",
   "execution_count": 4,
   "id": "f31be5f6",
   "metadata": {},
   "outputs": [
    {
     "data": {
      "text/html": [
       "<div>\n",
       "<style scoped>\n",
       "    .dataframe tbody tr th:only-of-type {\n",
       "        vertical-align: middle;\n",
       "    }\n",
       "\n",
       "    .dataframe tbody tr th {\n",
       "        vertical-align: top;\n",
       "    }\n",
       "\n",
       "    .dataframe thead th {\n",
       "        text-align: right;\n",
       "    }\n",
       "</style>\n",
       "<table border=\"1\" class=\"dataframe\">\n",
       "  <thead>\n",
       "    <tr style=\"text-align: right;\">\n",
       "      <th></th>\n",
       "      <th>runtime_in_minutes</th>\n",
       "      <th>tomatometer_rating</th>\n",
       "      <th>tomatometer_count</th>\n",
       "      <th>audience_rating</th>\n",
       "    </tr>\n",
       "  </thead>\n",
       "  <tbody>\n",
       "    <tr>\n",
       "      <th>count</th>\n",
       "      <td>16483.000000</td>\n",
       "      <td>16638.000000</td>\n",
       "      <td>16638.000000</td>\n",
       "      <td>16386.000000</td>\n",
       "    </tr>\n",
       "    <tr>\n",
       "      <th>mean</th>\n",
       "      <td>102.391494</td>\n",
       "      <td>60.466522</td>\n",
       "      <td>56.607104</td>\n",
       "      <td>60.470829</td>\n",
       "    </tr>\n",
       "    <tr>\n",
       "      <th>std</th>\n",
       "      <td>25.028011</td>\n",
       "      <td>28.587230</td>\n",
       "      <td>66.383800</td>\n",
       "      <td>20.462368</td>\n",
       "    </tr>\n",
       "    <tr>\n",
       "      <th>min</th>\n",
       "      <td>1.000000</td>\n",
       "      <td>0.000000</td>\n",
       "      <td>5.000000</td>\n",
       "      <td>0.000000</td>\n",
       "    </tr>\n",
       "    <tr>\n",
       "      <th>25%</th>\n",
       "      <td>90.000000</td>\n",
       "      <td>38.000000</td>\n",
       "      <td>12.000000</td>\n",
       "      <td>45.000000</td>\n",
       "    </tr>\n",
       "    <tr>\n",
       "      <th>50%</th>\n",
       "      <td>99.000000</td>\n",
       "      <td>66.000000</td>\n",
       "      <td>28.000000</td>\n",
       "      <td>62.000000</td>\n",
       "    </tr>\n",
       "    <tr>\n",
       "      <th>75%</th>\n",
       "      <td>111.000000</td>\n",
       "      <td>86.000000</td>\n",
       "      <td>76.000000</td>\n",
       "      <td>77.000000</td>\n",
       "    </tr>\n",
       "    <tr>\n",
       "      <th>max</th>\n",
       "      <td>2000.000000</td>\n",
       "      <td>100.000000</td>\n",
       "      <td>497.000000</td>\n",
       "      <td>100.000000</td>\n",
       "    </tr>\n",
       "  </tbody>\n",
       "</table>\n",
       "</div>"
      ],
      "text/plain": [
       "       runtime_in_minutes  tomatometer_rating  tomatometer_count  \\\n",
       "count        16483.000000        16638.000000       16638.000000   \n",
       "mean           102.391494           60.466522          56.607104   \n",
       "std             25.028011           28.587230          66.383800   \n",
       "min              1.000000            0.000000           5.000000   \n",
       "25%             90.000000           38.000000          12.000000   \n",
       "50%             99.000000           66.000000          28.000000   \n",
       "75%            111.000000           86.000000          76.000000   \n",
       "max           2000.000000          100.000000         497.000000   \n",
       "\n",
       "       audience_rating  \n",
       "count     16386.000000  \n",
       "mean         60.470829  \n",
       "std          20.462368  \n",
       "min           0.000000  \n",
       "25%          45.000000  \n",
       "50%          62.000000  \n",
       "75%          77.000000  \n",
       "max         100.000000  "
      ]
     },
     "execution_count": 4,
     "metadata": {},
     "output_type": "execute_result"
    }
   ],
   "source": [
    "dataset.describe()          "
   ]
  },
  {
   "cell_type": "code",
   "execution_count": 5,
   "id": "af464146",
   "metadata": {},
   "outputs": [
    {
     "name": "stdout",
     "output_type": "stream",
     "text": [
      "<class 'pandas.core.frame.DataFrame'>\n",
      "RangeIndex: 16638 entries, 0 to 16637\n",
      "Data columns (total 16 columns):\n",
      " #   Column              Non-Null Count  Dtype  \n",
      "---  ------              --------------  -----  \n",
      " 0   movie_title         16638 non-null  object \n",
      " 1   movie_info          16614 non-null  object \n",
      " 2   critics_consensus   8309 non-null   object \n",
      " 3   rating              16638 non-null  object \n",
      " 4   genre               16621 non-null  object \n",
      " 5   directors           16524 non-null  object \n",
      " 6   writers             15289 non-null  object \n",
      " 7   cast                16354 non-null  object \n",
      " 8   in_theaters_date    15823 non-null  object \n",
      " 9   on_streaming_date   16636 non-null  object \n",
      " 10  runtime_in_minutes  16483 non-null  float64\n",
      " 11  studio_name         16222 non-null  object \n",
      " 12  tomatometer_status  16638 non-null  object \n",
      " 13  tomatometer_rating  16638 non-null  int64  \n",
      " 14  tomatometer_count   16638 non-null  int64  \n",
      " 15  audience_rating     16386 non-null  float64\n",
      "dtypes: float64(2), int64(2), object(12)\n",
      "memory usage: 2.0+ MB\n"
     ]
    }
   ],
   "source": [
    "dataset.info()         "
   ]
  },
  {
   "cell_type": "code",
   "execution_count": 6,
   "id": "999942e3",
   "metadata": {},
   "outputs": [],
   "source": [
    "if 'in_theaters_date' in dataset.columns: \n",
    "    dataset['in_theaters_date'] = pd.to_datetime(dataset['in_theaters_date'], errors='coerce', dayfirst=True) \n",
    "    dataset['in_theaters_date'] = dataset['in_theaters_date'].view('int64') // 10**9"
   ]
  },
  {
   "cell_type": "code",
   "execution_count": 7,
   "id": "18246802",
   "metadata": {},
   "outputs": [
    {
     "name": "stdout",
     "output_type": "stream",
     "text": [
      "<class 'pandas.core.frame.DataFrame'>\n",
      "RangeIndex: 16638 entries, 0 to 16637\n",
      "Data columns (total 16 columns):\n",
      " #   Column              Non-Null Count  Dtype  \n",
      "---  ------              --------------  -----  \n",
      " 0   movie_title         16638 non-null  object \n",
      " 1   movie_info          16614 non-null  object \n",
      " 2   critics_consensus   8309 non-null   object \n",
      " 3   rating              16638 non-null  object \n",
      " 4   genre               16621 non-null  object \n",
      " 5   directors           16524 non-null  object \n",
      " 6   writers             15289 non-null  object \n",
      " 7   cast                16354 non-null  object \n",
      " 8   in_theaters_date    16638 non-null  int64  \n",
      " 9   on_streaming_date   16636 non-null  object \n",
      " 10  runtime_in_minutes  16483 non-null  float64\n",
      " 11  studio_name         16222 non-null  object \n",
      " 12  tomatometer_status  16638 non-null  object \n",
      " 13  tomatometer_rating  16638 non-null  int64  \n",
      " 14  tomatometer_count   16638 non-null  int64  \n",
      " 15  audience_rating     16386 non-null  float64\n",
      "dtypes: float64(2), int64(3), object(11)\n",
      "memory usage: 2.0+ MB\n"
     ]
    }
   ],
   "source": [
    "dataset.info()         "
   ]
  },
  {
   "cell_type": "code",
   "execution_count": 8,
   "id": "f8a89373",
   "metadata": {},
   "outputs": [
    {
     "data": {
      "text/plain": [
       "movie_title              0\n",
       "movie_info              24\n",
       "critics_consensus     8329\n",
       "rating                   0\n",
       "genre                   17\n",
       "directors              114\n",
       "writers               1349\n",
       "cast                   284\n",
       "in_theaters_date         0\n",
       "on_streaming_date        2\n",
       "runtime_in_minutes     155\n",
       "studio_name            416\n",
       "tomatometer_status       0\n",
       "tomatometer_rating       0\n",
       "tomatometer_count        0\n",
       "audience_rating        252\n",
       "dtype: int64"
      ]
     },
     "execution_count": 8,
     "metadata": {},
     "output_type": "execute_result"
    }
   ],
   "source": [
    "dataset.isnull().sum()"
   ]
  },
  {
   "cell_type": "code",
   "execution_count": 9,
   "id": "b6cfe0d7",
   "metadata": {},
   "outputs": [],
   "source": [
    "columns_to_drop = ['critics_consensus', 'writers', 'studio_name','on_streaming_date','runtime_in_minutes','tomatometer_status','tomatometer_rating','tomatometer_count']\n",
    "dataset.drop(columns=columns_to_drop, inplace=True)\n",
    "#here we will drop columns which has most no. of null values"
   ]
  },
  {
   "cell_type": "code",
   "execution_count": 10,
   "id": "39cdbe2d",
   "metadata": {},
   "outputs": [
    {
     "name": "stdout",
     "output_type": "stream",
     "text": [
      "<class 'pandas.core.frame.DataFrame'>\n",
      "Int64Index: 16019 entries, 0 to 16637\n",
      "Data columns (total 8 columns):\n",
      " #   Column            Non-Null Count  Dtype  \n",
      "---  ------            --------------  -----  \n",
      " 0   movie_title       16019 non-null  object \n",
      " 1   movie_info        16019 non-null  object \n",
      " 2   rating            16019 non-null  object \n",
      " 3   genre             16019 non-null  object \n",
      " 4   directors         16019 non-null  object \n",
      " 5   cast              16019 non-null  object \n",
      " 6   in_theaters_date  16019 non-null  int64  \n",
      " 7   audience_rating   16019 non-null  float64\n",
      "dtypes: float64(1), int64(1), object(6)\n",
      "memory usage: 1.1+ MB\n",
      "None\n"
     ]
    }
   ],
   "source": [
    "dataset.dropna(inplace= True)    # here we will drop rows which consist of null values\n",
    "print(dataset.info())"
   ]
  },
  {
   "cell_type": "code",
   "execution_count": 11,
   "id": "46efa1f2",
   "metadata": {},
   "outputs": [
    {
     "data": {
      "text/plain": [
       "movie_title         0\n",
       "movie_info          0\n",
       "rating              0\n",
       "genre               0\n",
       "directors           0\n",
       "cast                0\n",
       "in_theaters_date    0\n",
       "audience_rating     0\n",
       "dtype: int64"
      ]
     },
     "execution_count": 11,
     "metadata": {},
     "output_type": "execute_result"
    }
   ],
   "source": [
    "dataset.isnull().sum()"
   ]
  },
  {
   "cell_type": "code",
   "execution_count": 12,
   "id": "d4f64760",
   "metadata": {},
   "outputs": [
    {
     "data": {
      "text/plain": [
       "(16019, 8)"
      ]
     },
     "execution_count": 12,
     "metadata": {},
     "output_type": "execute_result"
    }
   ],
   "source": [
    "dataset.shape  #after adjusting all null values the shape of dataset remains same no rows deleted"
   ]
  },
  {
   "cell_type": "markdown",
   "id": "cb4d9717",
   "metadata": {},
   "source": [
    "# Step 4 :Encoding (One-Hot Encoding):\n",
    "In this example, each unique category in the original categorical columns is represented as a separate binary column in the new DataFrame.\n",
    "\n",
    "This encoding is beneficial for machine learning models because it converts categorical data into a numerical format that models can process.\n",
    "\n",
    "Introduction to pd.get_dummies():\n",
    "\n",
    "pd.get_dummies() is a function in pandas that performs one-hot encoding, automatically creating new binary columns for each unique category in the specified columns.\n",
    "\n",
    "Identifying Categorical Columns:\n",
    "\n",
    "Performing One-Hot Encoding:\n",
    "\n",
    "Displaying the Encoded Dataset:\n"
   ]
  },
  {
   "cell_type": "code",
   "execution_count": 13,
   "id": "1e534e98",
   "metadata": {},
   "outputs": [
    {
     "data": {
      "text/plain": [
       "Index(['movie_title', 'movie_info', 'rating', 'genre', 'directors', 'cast'], dtype='object')"
      ]
     },
     "execution_count": 13,
     "metadata": {},
     "output_type": "execute_result"
    }
   ],
   "source": [
    "dataset.select_dtypes(include=\"object\").columns"
   ]
  },
  {
   "cell_type": "code",
   "execution_count": 14,
   "id": "f1dbc4fc",
   "metadata": {},
   "outputs": [
    {
     "name": "stdout",
     "output_type": "stream",
     "text": [
      "   in_theaters_date  audience_rating  movie_title_!Women Art Revolution  \\\n",
      "0        1265932800             53.0                                  0   \n",
      "1        1272585600             64.0                                  0   \n",
      "2         307929600             53.0                                  0   \n",
      "3        -401414400             97.0                                  0   \n",
      "4        -504921600             74.0                                  0   \n",
      "\n",
      "   movie_title_#Horror  movie_title_$ (Dollars) (The Heist)  \\\n",
      "0                    0                                    0   \n",
      "1                    0                                    0   \n",
      "2                    0                                    0   \n",
      "3                    0                                    0   \n",
      "4                    0                                    0   \n",
      "\n",
      "   movie_title_$9.99   movie_title_$ellebrity  movie_title_'71  \\\n",
      "0                   0                       0                0   \n",
      "1                   0                       0                0   \n",
      "2                   0                       0                0   \n",
      "3                   0                       0                0   \n",
      "4                   0                       0                0   \n",
      "\n",
      "   movie_title_'Breaker' Morant  movie_title_'R Xmas  ...  \\\n",
      "0                             0                    0  ...   \n",
      "1                             0                    0  ...   \n",
      "2                             0                    0  ...   \n",
      "3                             0                    0  ...   \n",
      "4                             0                    0  ...   \n",
      "\n",
      "   cast_Zoey Deutch, Halston Sage, Kian Lawley, Cynthy Wu, Elena Kampouris, Medalion Rahimi, Jennifer Beals, Diego Boneta, Logan Miller  \\\n",
      "0                                                  0                                                                                      \n",
      "1                                                  0                                                                                      \n",
      "2                                                  0                                                                                      \n",
      "3                                                  0                                                                                      \n",
      "4                                                  0                                                                                      \n",
      "\n",
      "   cast_Zoey Deutch, Kathryn Hahn, Tim Heidecker, Adam Scott, Joey Morgan, Dylan Gelula, Maya Eshet  \\\n",
      "0                                                  0                                                  \n",
      "1                                                  0                                                  \n",
      "2                                                  0                                                  \n",
      "3                                                  0                                                  \n",
      "4                                                  0                                                  \n",
      "\n",
      "   cast_Zoey Deutch, Lucy Fry, Danila Kozlovsky, Gabriel Byrne, Sarah Hyland, Joely Richardson, Cameron Monaghan, Sami Gayle, Ashley Charles, Claire Foy, Dominic Sherwood, Chris Mason Johnson, Ben Peel, Olga Kurylenko, Rolfe Kent  \\\n",
      "0                                                  0                                                                                                                                                                                    \n",
      "1                                                  0                                                                                                                                                                                    \n",
      "2                                                  0                                                                                                                                                                                    \n",
      "3                                                  0                                                                                                                                                                                    \n",
      "4                                                  0                                                                                                                                                                                    \n",
      "\n",
      "   cast_Zoey Deutch, Nicholas Braun, Israel Broussard, Mateo Arias, Julia Garner, Ashley Judd, Demian Bichir, Virginia Gardner, David Coussins, Tasie Lawrence, Dayo Okeniyi, Kevin Chapman, Stephanie Fantauzzi, Paula Plum, John Rothman, Brett Wyman, Eric Lutes, Kelly Pendygraft, Bora Jasa, Nick Chambers, Michael Fennimore, Dinora Walcott, Tamara Hickey, Angela Jaymes, Zoe Ritchie, Marc McDermott, Ariana DeFusco, Eduardo Fernandez-Baumann  \\\n",
      "0                                                  0                                                                                                                                                                                                                                                                                                                                                                                                       \n",
      "1                                                  0                                                                                                                                                                                                                                                                                                                                                                                                       \n",
      "2                                                  0                                                                                                                                                                                                                                                                                                                                                                                                       \n",
      "3                                                  0                                                                                                                                                                                                                                                                                                                                                                                                       \n",
      "4                                                  0                                                                                                                                                                                                                                                                                                                                                                                                       \n",
      "\n",
      "   cast_Zohra Lampert, Barton Heyman, Kevin O'Connor, Gretchen Corbett, Alan Manson, Mariclare Costello  \\\n",
      "0                                                  0                                                      \n",
      "1                                                  0                                                      \n",
      "2                                                  0                                                      \n",
      "3                                                  0                                                      \n",
      "4                                                  0                                                      \n",
      "\n",
      "   cast_Zoie Palmer, Julian Richings, Jon Cor, Scott Thompson, Rob Ramsay  \\\n",
      "0                                                  0                        \n",
      "1                                                  0                        \n",
      "2                                                  0                        \n",
      "3                                                  0                        \n",
      "4                                                  0                        \n",
      "\n",
      "   cast_Zooey Deschanel, Hank Azaria, Jesse Bradford, Glenne Headly, Famke Janssen, Piper Laurie, Kelly Preston, Ray Romano, Rip Torn, Debra Winger, Curtis Garcia, Micole Mercurio, Keith Garcia, Lucy Gunadi, Rene Auberjonois, Kevin Ruf, Lana Novac, Alex Moore, Allisyn Ashley Arm, Lucy Boyle, Michael Panes, Michael Chapman, Vincent Castellanos, Lisa Maris, Rocco Sisto, Denise Dowse, Mark Harelik, Matthew Feder, Jordan Moen, Natasha Sheridan, Rance Howard, Paget Brewster, Mary Schmidtberger, Emma Chapman, Brandon Waters, Monica Esswein, Aaron Salazar, Shaunci Trammel, Ward Stearns, Sara Botsford, John Lafayette, Brian Posehn, Eric Peirpoint, Sherman Howard, Claudette Nevins, Monica Potter  \\\n",
      "0                                                  0                                                                                                                                                                                                                                                                                                                                                                                                                                                                                                                                                                                                                                                                      \n",
      "1                                                  0                                                                                                                                                                                                                                                                                                                                                                                                                                                                                                                                                                                                                                                                      \n",
      "2                                                  0                                                                                                                                                                                                                                                                                                                                                                                                                                                                                                                                                                                                                                                                      \n",
      "3                                                  0                                                                                                                                                                                                                                                                                                                                                                                                                                                                                                                                                                                                                                                                      \n",
      "4                                                  0                                                                                                                                                                                                                                                                                                                                                                                                                                                                                                                                                                                                                                                                      \n",
      "\n",
      "   cast_Zs??fia Psotta, S?°ndor Zs??t?©r, Lili Monori, Szabolcs Thuroczy, L?°szl?? G?°lffi, Lili Horv?°th  \\\n",
      "0                                                  0                                                        \n",
      "1                                                  0                                                        \n",
      "2                                                  0                                                        \n",
      "3                                                  0                                                        \n",
      "4                                                  0                                                        \n",
      "\n",
      "   cast_Zsa Zsa Gabor, Eric Fleming, Laurie Mitchell, Paul Birch, Barbara Darrow, Dave Willock, Lisa Davis, Patrick Waltz, Marilyn Buferd, Marjorie Durant Dye, Lynn Cartwright, Gerry Gaylor, Mary Ford, Colleen Drake, Marya Stevens, Laura Mason, Norma Young, Tania Velia, Kathy Marlowe  \\\n",
      "0                                                  0                                                                                                                                                                                                                                           \n",
      "1                                                  0                                                                                                                                                                                                                                           \n",
      "2                                                  0                                                                                                                                                                                                                                           \n",
      "3                                                  0                                                                                                                                                                                                                                           \n",
      "4                                                  0                                                                                                                                                                                                                                           \n",
      "\n",
      "   cast_sarah ellison, David Carr, Bruce Headlam, Richard P?©rez-Pe?±a, Clay Shirky, Brian Stelter, Alex S. Jones, Ian Fisher (IX), Ian Fisher, Noam Cohen, Susan Chira, Bill Keller, Jeff Jarvis, Katrina vanden Heuvel, Shane Smith, Tim Arango, Gay Talese, David Remnick, James McQuivey, Michael Hirschorn, Andrew Ross Sorkin, Larry Ingrassia, Dennis Crowley, Evan Williams, Paul Steiger, Markos Moulitsas Z??niga, Seth Mnookin, Nicholas Lemann, Claiborne Ray, Carla Baranauckas, Katherine Bouton, Nick Denton, Jimmy Wales, Rick Lyman, Dean Baquet, Brian Lamb, Brian Lam, Charles Strum, Joseph Kahn, Carl Bernstein, John Carr  \n",
      "0                                                  0                                                                                                                                                                                                                                                                                                                                                                                                                                                                                                                                                                                             \n",
      "1                                                  0                                                                                                                                                                                                                                                                                                                                                                                                                                                                                                                                                                                             \n",
      "2                                                  0                                                                                                                                                                                                                                                                                                                                                                                                                                                                                                                                                                                             \n",
      "3                                                  0                                                                                                                                                                                                                                                                                                                                                                                                                                                                                                                                                                                             \n",
      "4                                                  0                                                                                                                                                                                                                                                                                                                                                                                                                                                                                                                                                                                             \n",
      "\n",
      "[5 rows x 56568 columns]\n"
     ]
    }
   ],
   "source": [
    "#pd.get_dummies() automatically creates new columns for each unique category in the specified columns.\n",
    "\n",
    "#The columns parameter specifies which columns to one-hot encode.\n",
    "\n",
    "# List of categorical columns to be one-hot encoded\n",
    "categorical_columns = ['movie_title', 'movie_info', 'rating', 'genre',\n",
    "       'directors', 'cast']\n",
    "\n",
    "# Perform one-hot encoding using pd.get_dummies()\n",
    "dataset_encoded = pd.get_dummies(dataset, columns=categorical_columns)\n",
    "\n",
    "# Display the first few rows of the encoded dataset\n",
    "print(dataset_encoded.head())\n"
   ]
  },
  {
   "cell_type": "markdown",
   "id": "d3aec319",
   "metadata": {},
   "source": [
    "# Step 5: Feature Scaling , Dimensionality Reduction , Train and Test Split , Model Selection , Model Validation and Accuracy(Metrics):\n",
    "PCA: Principal Component Analysis, used for dimensionality reduction.\n",
    "\n",
    "StandardScaler: Standardizes features by removing the mean and scaling to unit variance.\n",
    "\n",
    "train_test_split: Splits the dataset into training and testing sets.\n",
    "\n",
    "LinearRegression: A linear model for regression.\n",
    "\n",
    "mean_absolute_error, mean_squared_error, r2_score: Metrics to evaluate the model's performance."
   ]
  },
  {
   "cell_type": "code",
   "execution_count": 15,
   "id": "17969d1f",
   "metadata": {},
   "outputs": [
    {
     "name": "stdout",
     "output_type": "stream",
     "text": [
      "MAE: 15.137163581760761\n",
      "MSE: 338.74960574428735\n",
      "R²: 0.1820903744554182\n"
     ]
    }
   ],
   "source": [
    "from sklearn.decomposition import PCA\n",
    "from sklearn.preprocessing import StandardScaler\n",
    "from sklearn.model_selection import train_test_split  \n",
    "from sklearn.linear_model import LinearRegression \n",
    "from sklearn.metrics import mean_absolute_error, mean_squared_error, r2_score\n",
    "# Scale the numerical columns \n",
    "scaler = StandardScaler() \n",
    "numerical_columns = dataset_encoded.select_dtypes(include=[float, int]).columns \n",
    "dataset_encoded[numerical_columns] = scaler.fit_transform(dataset_encoded[numerical_columns]) \n",
    "\n",
    "# Separate features and target \n",
    "X = dataset_encoded.drop('audience_rating', axis=1) \n",
    "y = dataset['audience_rating']\n",
    "\n",
    "# Apply PCA to reduce the number of features\n",
    "pca = PCA(n_components=100)  # Reduce to 100 principal components\n",
    "X_reduced = pca.fit_transform(X)\n",
    "# Proceed with the reduced dataset\n",
    "X_train, X_test, y_train, y_test = train_test_split(X_reduced, y, test_size=0.2, random_state=42)\n",
    "\n",
    "# Train a Linear Regression model\n",
    "model = LinearRegression()\n",
    "model.fit(X_train, y_train)\n",
    "\n",
    "# Predict on the test set\n",
    "y_pred = model.predict(X_test)\n",
    "\n",
    "# Evaluate the model\n",
    "mae = mean_absolute_error(y_test, y_pred)\n",
    "mse = mean_squared_error(y_test, y_pred)\n",
    "r2 = r2_score(y_test, y_pred)\n",
    "\n",
    "print(f\"MAE: {mae}\")\n",
    "print(f\"MSE: {mse}\")\n",
    "print(f\"R²: {r2}\")\n",
    "\n",
    "\n"
   ]
  },
  {
   "cell_type": "markdown",
   "id": "40556801",
   "metadata": {},
   "source": [
    "# Step 6: Hyperparameter Tuning:\n",
    "\n",
    "linear regression doesn't have many hyperparameters to tune, WE can still consider aspects such as regularization. For this, we'll use Ridge regression and Lasso regression, which include regularization parameters that can be tuned.\n",
    "\n",
    "WE can implement Ridge and Lasso regression with hyperparameter tuning using GridSearchCV:"
   ]
  },
  {
   "cell_type": "code",
   "execution_count": 16,
   "id": "44ff6cec",
   "metadata": {},
   "outputs": [
    {
     "name": "stdout",
     "output_type": "stream",
     "text": [
      "Ridge Regression - MAE: 15.139976228705596, MSE: 338.70571938388343, R²: 0.18219633790451395\n",
      "Lasso Regression - MAE: 16.12304389224896, MSE: 371.3712357980781, R²: 0.10332557364236283\n"
     ]
    }
   ],
   "source": [
    "from sklearn.linear_model import Ridge, Lasso\n",
    "from sklearn.model_selection import GridSearchCV\n",
    "\n",
    "# Define the model and parameters for Ridge regression\n",
    "ridge = Ridge()\n",
    "ridge_params = {\n",
    "    'alpha': [0.1, 1.0, 10.0, 100.0]\n",
    "}\n",
    "\n",
    "# Define the model and parameters for Lasso regression\n",
    "lasso = Lasso()\n",
    "lasso_params = {\n",
    "    'alpha': [0.1, 1.0, 10.0, 100.0]\n",
    "}\n",
    "\n",
    "# Use GridSearchCV for Ridge regression\n",
    "ridge_grid = GridSearchCV(ridge, ridge_params, cv=5, scoring='r2')\n",
    "ridge_grid.fit(X_train, y_train)\n",
    "\n",
    "# Use GridSearchCV for Lasso regression\n",
    "lasso_grid = GridSearchCV(lasso, lasso_params, cv=5, scoring='r2')\n",
    "lasso_grid.fit(X_train, y_train)\n",
    "\n",
    "# Get the best models\n",
    "best_ridge = ridge_grid.best_estimator_\n",
    "best_lasso = lasso_grid.best_estimator_\n",
    "\n",
    "# Make predictions with the best models\n",
    "y_pred_ridge = best_ridge.predict(X_test)\n",
    "y_pred_lasso = best_lasso.predict(X_test)\n",
    "\n",
    "# Evaluate the best models\n",
    "mae_ridge = mean_absolute_error(y_test, y_pred_ridge)\n",
    "mse_ridge = mean_squared_error(y_test, y_pred_ridge)\n",
    "r2_ridge = r2_score(y_test, y_pred_ridge)\n",
    "\n",
    "mae_lasso = mean_absolute_error(y_test, y_pred_lasso)\n",
    "mse_lasso = mean_squared_error(y_test, y_pred_lasso)\n",
    "r2_lasso = r2_score(y_test, y_pred_lasso)\n",
    "\n",
    "print(f\"Ridge Regression - MAE: {mae_ridge}, MSE: {mse_ridge}, R²: {r2_ridge}\")\n",
    "print(f\"Lasso Regression - MAE: {mae_lasso}, MSE: {mse_lasso}, R²: {r2_lasso}\")\n"
   ]
  },
  {
   "cell_type": "markdown",
   "id": "dd6fa155",
   "metadata": {},
   "source": [
    "# Step 7: Plots and Visualization\n",
    "Visualizing the results can provide valuable insights into the model's performance. We can create plots to show the comparison between the actual and predicted values, as well as the residuals (the difference between the actual and predicted values).\n",
    "\n",
    "we can create these plots:\n",
    "\n",
    "Scatter Plot of Actual vs. Predicted Values:\n",
    "\n",
    "This plot helps you visualize how well your model's predictions match the actual values.\n",
    "\n",
    "Residual Plot:\n",
    "\n",
    "This plot shows the residuals, helping you detect any patterns that might indicate problems with your model.\n",
    "\n",
    "Distribution Plot of Residuals:\n",
    "\n",
    "This plot helps you check if the residuals are normally distributed."
   ]
  },
  {
   "cell_type": "code",
   "execution_count": null,
   "id": "dfb7e8ab",
   "metadata": {
    "scrolled": true
   },
   "outputs": [],
   "source": [
    "import matplotlib.pyplot as plt\n",
    "import seaborn as sns\n",
    "\n",
    "# Scatter plot of actual vs. predicted values\n",
    "plt.figure(figsize=(10, 6))\n",
    "plt.scatter(y_test, y_pred, alpha=0.5)\n",
    "plt.title('Actual vs. Predicted Values')\n",
    "plt.xlabel('Actual Values')\n",
    "plt.ylabel('Predicted Values')\n",
    "plt.plot([min(y_test), max(y_test)], [min(y_test), max(y_test)], color='red')  # Line of perfect prediction\n",
    "plt.savefig('Scatter Plot')\n",
    "plt.show()\n",
    "\n",
    "# Residual plot\n",
    "residuals = y_test - y_pred\n",
    "plt.figure(figsize=(10, 6))\n",
    "plt.scatter(y_pred, residuals, alpha=0.5)\n",
    "plt.title('Residual Plot')\n",
    "plt.xlabel('Predicted Values')\n",
    "plt.ylabel('Residuals')\n",
    "plt.hlines(y=0, xmin=min(y_pred), xmax=max(y_pred), color='red')  # Horizontal line at 0\n",
    "plt.savefig('Residuals Plot')\n",
    "plt.show()\n",
    "\n",
    "# Distribution plot of residuals\n",
    "plt.figure(figsize=(10, 6))\n",
    "sns.histplot(residuals, kde=True)\n",
    "plt.title('Distribution of Residuals')\n",
    "plt.xlabel('Residuals')\n",
    "plt.ylabel('Frequency')\n",
    "plt.savefig('Distribution Plot')\n",
    "plt.show()\n"
   ]
  },
  {
   "cell_type": "markdown",
   "id": "69f98012",
   "metadata": {},
   "source": [
    "SUCCESSFULLY COMPLETED"
   ]
  }
 ],
 "metadata": {
  "kernelspec": {
   "display_name": "Python 3 (ipykernel)",
   "language": "python",
   "name": "python3"
  },
  "language_info": {
   "codemirror_mode": {
    "name": "ipython",
    "version": 3
   },
   "file_extension": ".py",
   "mimetype": "text/x-python",
   "name": "python",
   "nbconvert_exporter": "python",
   "pygments_lexer": "ipython3",
   "version": "3.11.7"
  }
 },
 "nbformat": 4,
 "nbformat_minor": 5
}
